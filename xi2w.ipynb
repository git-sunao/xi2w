{
 "cells": [
  {
   "cell_type": "code",
   "execution_count": 1,
   "metadata": {},
   "outputs": [],
   "source": [
    "import numpy as np\n",
    "from scipy.special import lpmv\n",
    "from scipy.integrate import simps\n",
    "import matplotlib.pyplot as plt\n",
    "from fftlog import fftlog"
   ]
  },
  {
   "cell_type": "code",
   "execution_count": null,
   "metadata": {},
   "outputs": [],
   "source": []
  },
  {
   "cell_type": "code",
   "execution_count": 2,
   "metadata": {},
   "outputs": [],
   "source": [
    "def xi2w_aniso(rp, pimax, k, L, pkL, m, N_extrap_high=512, N_extrap_low=512, N_pad=512):\n",
    "    \"\"\"\n",
    "    Parameters\n",
    "        rp  (array)        : perpendicular distance of galaxy pairs.\n",
    "        pimax (float)      : maximum pi to integrate over\n",
    "        k (array)          : input wave number\n",
    "        L (list of int)    : the order of multipole\n",
    "        pkL (list of array): power spectrum multipoles\n",
    "        m (int)            : m value for associated Legendre polynomials, m=2 for IA.\n",
    "        N_extrap_high (int): number of points for high-k extrapolation for fftlog\n",
    "        N_extrap_low (int) : number of points for low-k extrapolation for fftlog\n",
    "        N_pad (int)        : number of padding points for fftlog\n",
    "\n",
    "    Returns\n",
    "        w (array)          : projected correlation function\n",
    "    \"\"\"\n",
    "    # Convert multipoles from Fourier to real space.\n",
    "    # Inverse of Eq.(37) of https://arxiv.org/pdf/2202.11839\n",
    "    xiL = []\n",
    "    for pl, l in zip(pkL, L):\n",
    "        f = fftlog(k, k**3*pl, N_extrap_high=N_extrap_low, N_extrap_low=N_extrap_high, N_pad=N_pad)\n",
    "        r_fft, xil = f.fftlog(l)\n",
    "        xil /= 2.0*np.pi**2\n",
    "        xiL.append(xil * (1j)**l)\n",
    "\n",
    "    # perform r_para (pi) integration\n",
    "    pi= np.logspace(-3, np.log10(pimax), 300)\n",
    "    r = np.sqrt(rp[None,:]**2+pi[:,None]**2)\n",
    "    mu= pi[:,None]/r\n",
    "\n",
    "    xi = 0\n",
    "    for xil, l in zip(xiL, L):\n",
    "        xi += np.interp(r, r_fft, xil) * lpmv(m, l, mu)\n",
    "    w = 2*simps(xi, pi, axis=0)\n",
    "\n",
    "    return w"
   ]
  },
  {
   "cell_type": "code",
   "execution_count": 3,
   "metadata": {},
   "outputs": [],
   "source": [
    "# load an example set of power spectra\n",
    "k, pk_lin, pk_nlin = np.loadtxt('./pk_P18.dat', unpack=True)"
   ]
  },
  {
   "cell_type": "code",
   "execution_count": 4,
   "metadata": {},
   "outputs": [
    {
     "name": "stdout",
     "output_type": "stream",
     "text": [
      "CPU times: user 19.7 ms, sys: 4.73 ms, total: 24.4 ms\n",
      "Wall time: 25.6 ms\n",
      "CPU times: user 13.9 ms, sys: 570 µs, total: 14.5 ms\n",
      "Wall time: 14.8 ms\n"
     ]
    }
   ],
   "source": [
    "rp = np.logspace(0, 3.0, 301)\n",
    "L = [0, 2]\n",
    "# as a demo we just assume that P_0(k) = P_2(k) = P_{lin/nlin}(k)\n",
    "%time w_lin = xi2w_aniso(rp, 100.0, k, L, [pk_lin , pk_lin] , 2)\n",
    "%time w_nlin= xi2w_aniso(rp, 100.0, k, L, [pk_nlin, pk_nlin], 2)"
   ]
  },
  {
   "cell_type": "code",
   "execution_count": 5,
   "metadata": {},
   "outputs": [
    {
     "name": "stderr",
     "output_type": "stream",
     "text": [
      "/Users/sugiyamasunao/miniconda3/envs/csis3pcf/lib/python3.11/site-packages/matplotlib/cbook.py:1699: ComplexWarning: Casting complex values to real discards the imaginary part\n",
      "  return math.isfinite(val)\n",
      "/Users/sugiyamasunao/miniconda3/envs/csis3pcf/lib/python3.11/site-packages/matplotlib/cbook.py:1345: ComplexWarning: Casting complex values to real discards the imaginary part\n",
      "  return np.asarray(x, float)\n"
     ]
    },
    {
     "data": {
      "image/png": "[encoded data removed]",
      "text/plain": [
       "<Figure size 640x480 with 1 Axes>"
      ]
     },
     "metadata": {},
     "output_type": "display_data"
    }
   ],
   "source": [
    "plt.loglog(rp, w_lin, 'C0-')\n",
    "plt.loglog(rp,-w_lin, 'C0--')\n",
    "plt.loglog(rp, w_nlin, 'C1-')\n",
    "plt.loglog(rp,-w_nlin, 'C1--')\n",
    "plt.xlabel(r'$r_p$ [Mpc/h]')\n",
    "plt.ylabel(r'$w(r_p)$')\n",
    "plt.show()"
   ]
  },
  {
   "cell_type": "code",
   "execution_count": null,
   "metadata": {},
   "outputs": [],
   "source": []
  }
 ],
 "metadata": {
  "kernelspec": {
   "display_name": "csis3pcf",
   "language": "python",
   "name": "python3"
  },
  "language_info": {
   "codemirror_mode": {
    "name": "ipython",
    "version": 3
   },
   "file_extension": ".py",
   "mimetype": "text/x-python",
   "name": "python",
   "nbconvert_exporter": "python",
   "pygments_lexer": "ipython3",
   "version": "3.11.9"
  }
 },
 "nbformat": 4,
 "nbformat_minor": 2
}
